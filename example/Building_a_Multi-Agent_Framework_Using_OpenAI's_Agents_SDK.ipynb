{
  "cells": [
    {
      "cell_type": "markdown",
      "metadata": {},
      "source": [
        "# Building a Multi-Agent Framework Using OpenAI's Agents SDK"
      ]
    },
    {
      "cell_type": "markdown",
      "metadata": {},
      "source": [
        "# Table of Contents\n",
        "1. [Introduction to OpenAI's Agents SDK](#introduction-agents-sdk)\n",
        "2. [Overview of Agents SDK](#overview-agents-sdk)\n",
        "3. [Initial Setup and Configuration](#initial-setup)\n",
        "4. [Creating a Simple Agent](#creating-simple-agent)\n",
        "5. [Use Cases for Multi-Agent Frameworks](#use-cases)\n",
        "6. [Importance of Agent Handoffs](#agent-handoffs)\n",
        "7. [Setup and Prerequisites](#setup-prerequisites)\n",
        "8. [Building the Calculator Tool](#calculator-tool)\n",
        "9. [Creating the Web Searcher Agent](#web-searcher-agent)\n",
        "10. [Developing the Primary Agent](#primary-agent)\n",
        "11. [Demonstration of the Multi-Agent Framework](#demonstration)\n",
        "12. [Summary and Key Takeaways](#summary)\n"
      ]
    },
    {
      "cell_type": "markdown",
      "metadata": {},
      "source": [
        "# Introduction to OpenAI's Agents SDK\n",
        "\n",
        "Welcome to this section on OpenAI's Agents SDK, a versatile toolkit designed to help developers create and manage sophisticated multi-agent systems. This SDK facilitates the development of autonomous agents capable of executing complex tasks with minimal human intervention. In this section, we'll explore the core features of the Agents SDK and discuss its significance in building multi-agent frameworks.\n",
        "\n",
        "> **Note:** The `agents` library referenced throughout this notebook is a hypothetical or custom library that extends the OpenAI Agents SDK. In practice, you may need to adapt or install additional components depending on your use case and the availability of official packages. Always refer to the relevant documentation or repository for installation and usage guidelines."
      ]
    },
    {
      "cell_type": "markdown",
      "metadata": {},
      "source": [
        "## Overview of Agents SDK\n",
        "\n",
        "The OpenAI Agents SDK is a comprehensive framework that allows developers to create, manage, and deploy AI agents. These agents can perform a wide range of tasks, from simple data retrieval to complex decision-making processes. Key features of the Agents SDK include:\n",
        "\n",
        "- **Multi-Agent Management:** Easily create and manage multiple agents within a single system.\n",
        "- **Task Delegation:** Assign tasks to specific agents based on their capabilities.\n",
        "- **Seamless Integration:** Integrate with other tools and APIs to enhance agent functionality.\n",
        "- **Customizable Workflows:** Define workflows and task sequences tailored to specific use cases.\n",
        "\n",
        "These features make the Agents SDK a versatile tool for building systems that require collaboration between multiple specialized agents."
      ]
    },
    {
      "cell_type": "markdown",
      "metadata": {},
      "source": [
        "# Initial Setup and Configuration\n",
        "\n",
        "Before diving into agent creation, let's set up our environment with some quality-of-life improvements:\n",
        "1. Enable nested event loops for Jupyter using nest_asyncio\n",
        "2. Configure logging to filter out unnecessary debug messages\n",
        "3. Set up environment variables for API keys\n",
        "\n",
        "This will ensure a cleaner notebook experience and proper Runner functionality."
      ]
    },
    {
      "cell_type": "code",
      "execution_count": 22,
      "metadata": {},
      "outputs": [
        {
          "name": "stdout",
          "output_type": "stream",
          "text": [
            "Requirement already satisfied: nest_asyncio in /Users/minhajulhoque/work/github/cookbook_agent/venv/lib/python3.12/site-packages (1.6.0)\n",
            "\n",
            "\u001b[1m[\u001b[0m\u001b[34;49mnotice\u001b[0m\u001b[1;39;49m]\u001b[0m\u001b[39;49m A new release of pip is available: \u001b[0m\u001b[31;49m24.3.1\u001b[0m\u001b[39;49m -> \u001b[0m\u001b[32;49m25.0.1\u001b[0m\n",
            "\u001b[1m[\u001b[0m\u001b[34;49mnotice\u001b[0m\u001b[1;39;49m]\u001b[0m\u001b[39;49m To update, run: \u001b[0m\u001b[32;49mpip install --upgrade pip\u001b[0m\n",
            "Note: you may need to restart the kernel to use updated packages.\n"
          ]
        }
      ],
      "source": [
        "%pip install nest_asyncio\n",
        "import asyncio\n",
        "import nest_asyncio\n",
        "\n",
        "# Enable nested event loops in Jupyter\n",
        "nest_asyncio.apply()\n",
        "\n",
        "import os\n",
        "\n",
        "# Add these imports and logging configuration at the beginning of your notebook\n",
        "import logging\n",
        "\n",
        "# Set logging level to WARNING or higher to suppress DEBUG messages\n",
        "logging.getLogger(\"openai\").setLevel(logging.WARNING)\n",
        "logging.getLogger(\"httpx\").setLevel(logging.WARNING)\n",
        "logging.getLogger(\"httpcore\").setLevel(logging.WARNING)"
      ]
    },
    {
      "cell_type": "markdown",
      "metadata": {},
      "source": [
        "## Creating a Simple Agent\n",
        "\n",
        "To better understand how the Agents SDK works, let's create a simple agent using the SDK. This example will demonstrate the basic setup and functionality of an agent. We'll also ensure that our code handles errors gracefully and manages API keys securely."
      ]
    },
    {
      "cell_type": "code",
      "execution_count": 1,
      "metadata": {
        "execution_count": null,
        "outputs": []
      },
      "outputs": [
        {
          "name": "stdout",
          "output_type": "stream",
          "text": [
            "Agent Name: Simple Agent\n",
            "Agent Instructions: Perform basic data retrieval tasks.\n"
          ]
        }
      ],
      "source": [
        "import os\n",
        "from agents import Agent\n",
        "\n",
        "# Load environment variables from a .env file\n",
        "from dotenv import load_dotenv\n",
        "load_dotenv()\n",
        "\n",
        "# Access the API key securely\n",
        "openai_api_key = os.getenv(\"OPENAI_API_KEY\")\n",
        "if not openai_api_key:\n",
        "    raise EnvironmentError(\"OPENAI_API_KEY environment variable is not set\")\n",
        "\n",
        "# Define a simple agent\n",
        "simple_agent = Agent(\n",
        "    name=\"Simple Agent\",\n",
        "    instructions=\"Perform basic data retrieval tasks.\"\n",
        ")\n",
        "\n",
        "# Display the agent's details\n",
        "print(f\"Agent Name: {simple_agent.name}\")\n",
        "print(f\"Agent Instructions: {simple_agent.instructions}\")"
      ]
    },
    {
      "cell_type": "markdown",
      "metadata": {},
      "source": [
        "In this example, we created a basic agent named `Simple Agent` with instructions to perform basic data retrieval tasks. This demonstrates the ease of setting up an agent using the Agents SDK. We also ensured that the API key is managed securely using environment variables."
      ]
    },
    {
      "cell_type": "markdown",
      "metadata": {},
      "source": [
        "## Use Cases for Multi-Agent Frameworks\n",
        "\n",
        "Multi-agent frameworks offer numerous advantages in various real-world scenarios. Here are some examples of how they can be used effectively:\n",
        "\n",
        "- **Task Delegation:** In a customer service application, a primary agent can triage incoming requests and delegate them to specialized agents, such as billing or technical support agents.\n",
        "- **Efficient Workflow Management:** In a business setting, agents can automate routine tasks, such as scheduling meetings or processing orders, freeing up human resources for more strategic activities.\n",
        "- **Research and Data Analysis:** Agents can collaborate to gather, analyze, and synthesize information from multiple sources, providing comprehensive insights in a fraction of the time it would take a human team.\n",
        "\n",
        "These use cases demonstrate the potential of multi-agent frameworks to enhance productivity and streamline operations across various industries."
      ]
    },
    {
      "cell_type": "markdown",
      "metadata": {},
      "source": [
        "## Importance of Agent Handoffs\n",
        "\n",
        "Agent handoffs are a crucial aspect of multi-agent frameworks, enabling seamless transitions between agents. This concept allows a primary agent to delegate tasks to other specialized agents based on the task requirements. For example, in a technical support system, an initial inquiry might be handled by a general support agent, who then hands off specific issues to a technical specialist.\n",
        "\n",
        "Handoffs ensure that each task is managed by the most appropriate agent, improving efficiency and effectiveness. They also facilitate complex workflows where different agents contribute their expertise to complete a task. Implementing agent handoffs requires careful planning and coordination to maintain continuity and coherence in the workflow.\n",
        "\n",
        "By understanding and utilizing agent handoffs, developers can create robust systems that leverage the strengths of each agent, resulting in a more efficient and effective multi-agent framework."
      ]
    },
    {
      "cell_type": "code",
      "execution_count": 2,
      "metadata": {
        "execution_count": null,
        "outputs": []
      },
      "outputs": [
        {
          "name": "stdout",
          "output_type": "stream",
          "text": [
            "Triage Agent Name: Triage Agent\n",
            "Triage Agent Instructions: Route customer inquiries to the appropriate specialized agent.\n",
            "Handoffs: [Agent(name='Billing Agent', instructions=None, handoff_description=None, handoffs=[], model=None, model_settings=ModelSettings(temperature=None, top_p=None, frequency_penalty=None, presence_penalty=None, tool_choice=None, parallel_tool_calls=False, truncation=None, max_tokens=None), tools=[], mcp_servers=[], input_guardrails=[], output_guardrails=[], output_type=None, hooks=None, tool_use_behavior='run_llm_again', reset_tool_choice=True), Handoff(tool_name='transfer_to_refund_agent', tool_description='Handoff to the Refund Agent agent to handle the request. ', input_json_schema={'additionalProperties': False, 'type': 'object', 'properties': {}, 'required': []}, on_invoke_handoff=<function handoff.<locals>._invoke_handoff at 0x11613d1c0>, agent_name='Refund Agent', input_filter=None, strict_json_schema=True)]\n"
          ]
        }
      ],
      "source": [
        "from agents import Agent, handoff\n",
        "\n",
        "# Define specialized agents\n",
        "billing_agent = Agent(name=\"Billing Agent\")\n",
        "refund_agent = Agent(name=\"Refund Agent\")\n",
        "\n",
        "# Define the triage agent with handoffs\n",
        "triage_agent = Agent(\n",
        "    name=\"Triage Agent\",\n",
        "    instructions=\"Route customer inquiries to the appropriate specialized agent.\",\n",
        "    handoffs=[billing_agent, handoff(refund_agent)]\n",
        ")\n",
        "\n",
        "# Display the triage agent's details\n",
        "print(f\"Triage Agent Name: {triage_agent.name}\")\n",
        "print(f\"Triage Agent Instructions: {triage_agent.instructions}\")\n",
        "print(\"Handoffs:\", [agent for agent in triage_agent.handoffs])"
      ]
    },
    {
      "cell_type": "markdown",
      "metadata": {},
      "source": [
        "# Setup and Prerequisites\n",
        "\n",
        "Before we dive into building a multi-agent framework using OpenAI's Agents SDK, it's essential to set up our development environment correctly. This section will guide you through the necessary steps to prepare your environment, including installing Python, setting up virtual environments, installing the OpenAI Agents SDK, and configuring your OpenAI API key. Ensuring these prerequisites are in place will help you avoid common setup issues and streamline the development process."
      ]
    },
    {
      "cell_type": "markdown",
      "metadata": {},
      "source": [
        "## Installing Python and Virtual Environments\n",
        "\n",
        "To begin, you'll need Python installed on your system. We recommend using the latest stable version of Python to ensure compatibility with the OpenAI Agents SDK. Additionally, using virtual environments is a best practice for managing dependencies and isolating project-specific packages.\n",
        "\n",
        "### Step-by-Step Instructions:\n",
        "1. **Install Python:**\n",
        "   - Download the latest version of Python from the [official Python website](https://www.python.org/downloads/).\n",
        "   - Follow the installation instructions for your operating system.\n",
        "\n",
        "2. **Set Up a Virtual Environment:**\n",
        "   - Open a terminal or command prompt.\n",
        "   - Navigate to your project directory or create a new one:\n",
        "     ```bash\n",
        "     mkdir my_project\n",
        "     cd my_project\n",
        "     ```\n",
        "   - Create a virtual environment:\n",
        "     ```bash\n",
        "     python -m venv .venv\n",
        "     ```\n",
        "   - Activate the virtual environment:\n",
        "     - On Unix or macOS:\n",
        "       ```bash\n",
        "       source .venv/bin/activate\n",
        "       ```\n",
        "     - On Windows:\n",
        "       ```bash\n",
        "       .venv\\Scripts\\activate\n",
        "       ```\n",
        "\n",
        "Using a virtual environment ensures that your project's dependencies do not interfere with other projects or system-wide packages."
      ]
    },
    {
      "cell_type": "markdown",
      "metadata": {},
      "source": [
        "## OpenAI Agents SDK Installation\n",
        "\n",
        "With Python and your virtual environment set up, the next step is to install the OpenAI Agents SDK. This SDK is essential for creating and managing AI agents within your applications.\n",
        "\n",
        "### Installation Steps:\n",
        "1. **Activate your virtual environment** (if not already activated):\n",
        "   - On Unix or macOS:\n",
        "     ```bash\n",
        "     source .venv/bin/activate\n",
        "     ```\n",
        "   - On Windows:\n",
        "     ```bash\n",
        "     .venv\\Scripts\\activate\n",
        "     ```\n",
        "\n",
        "2. **Install the OpenAI Agents SDK using pip:**\n",
        "   ```bash\n",
        "   pip install openai-agents\n",
        "   ```\n",
        "\n",
        "This command will download and install the latest version of the SDK. For more information about the SDK and its features, you can visit the [official documentation](https://openai.github.io/openai-agents-python/?utm_source=openai)."
      ]
    },
    {
      "cell_type": "markdown",
      "metadata": {},
      "source": [
        "## Setting Up OpenAI API Key\n",
        "\n",
        "To interact with OpenAI's services, you need an API key. This key authenticates your requests and is required for using the Agents SDK.\n",
        "\n",
        "### Steps to Obtain and Configure Your API Key:\n",
        "1. **Create an OpenAI Account:**\n",
        "   - Visit [OpenAI's platform website](https://platform.openai.com) and sign up or log in.\n",
        "\n",
        "2. **Generate a New API Key:**\n",
        "   - Go to your account settings and find the \"API Keys\" section.\n",
        "   - Click \"Create new secret key\" and copy the key immediately.\n",
        "\n",
        "3. **Set the API Key as an Environment Variable:**\n",
        "   - This keeps your key secure and prevents it from being exposed in your code.\n",
        "   - On Unix or macOS, open your terminal and edit your shell configuration file (e.g., `~/.bashrc`, `~/.bash_profile`, or `~/.zshrc`):\n",
        "     ```bash\n",
        "     export OPENAI_API_KEY=your-api-key-here\n",
        "     ```\n",
        "   - On Windows, use the \"Environment Variables\" settings:\n",
        "     - Search for \"Edit the system environment variables.\"\n",
        "     - Click on \"Environment Variables.\"\n",
        "     - Add a new user variable named `OPENAI_API_KEY` with your API key as the value.\n",
        "\n",
        "4. **Verify the Setup:**\n",
        "   - Open a new terminal or command prompt and run the following command to ensure the environment variable is set correctly:\n",
        "     - On Unix or macOS:\n",
        "       ```bash\n",
        "       echo $OPENAI_API_KEY\n",
        "       ```\n",
        "     - On Windows:\n",
        "       ```cmd\n",
        "       echo %OPENAI_API_KEY%\n",
        "       ```\n",
        "\n",
        "By following these steps, you'll securely set up your OpenAI API key, ready to be used in your applications."
      ]
    },
    {
      "cell_type": "code",
      "execution_count": 3,
      "metadata": {
        "execution_count": null,
        "outputs": []
      },
      "outputs": [
        {
          "name": "stdout",
          "output_type": "stream",
          "text": [
            "API key is set correctly.\n"
          ]
        }
      ],
      "source": [
        "# Example code to verify the OpenAI API key setup in Python\n",
        "import os\n",
        "\n",
        "# Retrieve the API key from the environment variable\n",
        "api_key = os.getenv('OPENAI_API_KEY')\n",
        "\n",
        "# Check if the API key is set\n",
        "if api_key:\n",
        "    print('API key is set correctly.')\n",
        "else:\n",
        "    print('API key is not set. Please check your environment variable setup.')"
      ]
    },
    {
      "cell_type": "markdown",
      "metadata": {},
      "source": [
        "# Building the Calculator Tool\n",
        "\n",
        "In this section, we will create a calculator tool that can evaluate mathematical expressions. This tool will be integrated into a Math Agent using OpenAI's Agents SDK. By leveraging the `@function_tool` decorator, we'll ensure that our tool is seamlessly integrated and ready to handle mathematical queries efficiently.\n",
        "\n",
        "### Introduction to OpenAI's Agents SDK\n",
        "The OpenAI Agents SDK is a Python library designed to help developers create intelligent agents capable of performing complex tasks. It provides a framework for defining agents, integrating tools, and managing workflows. This SDK simplifies the process of building AI applications by offering built-in functionalities for task orchestration, tool integration, and error handling. For more details, refer to the [official documentation](https://openai.github.io/openai-agents-python/?utm_source=openai)."
      ]
    },
    {
      "cell_type": "markdown",
      "metadata": {},
      "source": [
        "### Why Build a Calculator Tool?\n",
        "A calculator tool is essential for a Math Agent as it enhances its ability to solve arithmetic problems, providing accurate and quick computations. This capability is crucial for automating tasks that involve numerical data processing, making the Math Agent more versatile and effective."
      ]
    },
    {
      "cell_type": "markdown",
      "metadata": {},
      "source": [
        "## Subsection 1: Defining the Calculator Tool\n",
        "\n",
        "To start, we need to define a Python function that performs calculations. We'll use the `@function_tool` decorator from the OpenAI Agents SDK to make this function available as a tool within an agent's workflow. This decorator automatically generates the necessary metadata and schema for the function, allowing the agent to utilize it effectively.\n",
        "\n",
        "### Security Considerations\n",
        "Using Python's `eval` function to evaluate expressions can pose security risks, as it can execute arbitrary code. Instead, we will use the `sympy` library, which provides a safer environment for evaluating mathematical expressions."
      ]
    },
    {
      "cell_type": "code",
      "execution_count": 4,
      "metadata": {
        "execution_count": null,
        "outputs": []
      },
      "outputs": [],
      "source": [
        "# Import necessary libraries\n",
        "from agents import function_tool\n",
        "from sympy import sympify\n",
        "import logging\n",
        "\n",
        "# Configure logging for error handling\n",
        "logging.basicConfig(level=logging.DEBUG)\n",
        "logger = logging.getLogger(__name__)\n",
        "\n",
        "@function_tool\n",
        "def calculate(expression: str) -> float:\n",
        "    \"\"\"Evaluate a mathematical expression using sympy.\n",
        "    \n",
        "    Args:\n",
        "        expression: A string representing the mathematical expression to evaluate.\n",
        "    \n",
        "    Returns:\n",
        "        The result of the evaluated expression as a float.\n",
        "    \"\"\"\n",
        "    try:\n",
        "        # Convert the expression to a sympy expression and evaluate it\n",
        "        result = sympify(expression).evalf()\n",
        "        return float(result)\n",
        "    except Exception as e:\n",
        "        # Log any errors that occur during evaluation\n",
        "        logger.error(f\"Error evaluating expression: {e}\")\n",
        "        return float('nan')  # Return NaN to indicate an error in calculation"
      ]
    },
    {
      "cell_type": "markdown",
      "metadata": {},
      "source": [
        "In this code, we define a `calculate` function that evaluates mathematical expressions using the `sympy` library. The `@function_tool` decorator processes the function's signature and docstring to generate the necessary schema and metadata for integration with an agent. Error handling is implemented using logging to manage any issues that arise during expression evaluation, ensuring robustness."
      ]
    },
    {
      "cell_type": "markdown",
      "metadata": {},
      "source": [
        "## Subsection 2: Integrating the Calculator Tool with Math Agent\n",
        "\n",
        "Now that we have defined our calculator tool, the next step is to integrate it with a Math Agent. This agent will use the tool to process mathematical queries, providing solutions to arithmetic expressions. We'll set up the agent using the OpenAI Agents SDK and include the calculator tool in its list of available tools."
      ]
    },
    {
      "cell_type": "code",
      "execution_count": 28,
      "metadata": {
        "execution_count": null,
        "outputs": []
      },
      "outputs": [
        {
          "name": "stdout",
          "output_type": "stream",
          "text": [
            "The result of \\(10 + \\frac{20}{5}\\) is 14.0.\n"
          ]
        }
      ],
      "source": [
        "from agents import Agent, Runner\n",
        "\n",
        "# Define an async function to run the agent with a sample query\n",
        "def run_math_agent():\n",
        "    # Sample query to test the math calculation capability\n",
        "    query = [{\"role\": \"user\", \"content\": \"What is 10 + 20 / 5?\"}]\n",
        "    \n",
        "    try:\n",
        "        # Execute the query using the Runner\n",
        "        result = Runner.run_sync(math_agent, query)\n",
        "        \n",
        "        # Print the final output from the agent\n",
        "        print(result.final_output)\n",
        "        return result\n",
        "    except Exception as e:\n",
        "        print(f\"An error occurred: {e}\")\n",
        "\n",
        "# Define the Math Agent with the calculator tool\n",
        "math_agent = Agent(\n",
        "    name=\"Math Agent\",\n",
        "    instructions=\"Solve arithmetic expressions using the calculator tool.\",\n",
        "    tools=[calculate]  # Integrate the calculator tool\n",
        ")\n",
        "\n",
        "# Run the async function\n",
        "result = run_math_agent()"
      ]
    },
    {
      "cell_type": "code",
      "execution_count": 29,
      "metadata": {},
      "outputs": [
        {
          "data": {
            "text/plain": [
              "RunResult(input=[{'role': 'user', 'content': 'What is 10 + 20 / 5?'}], new_items=[ToolCallItem(agent=Agent(name='Math Agent', instructions='Solve arithmetic expressions using the calculator tool.', handoff_description=None, handoffs=[], model=None, model_settings=ModelSettings(temperature=None, top_p=None, frequency_penalty=None, presence_penalty=None, tool_choice=None, parallel_tool_calls=False, truncation=None, max_tokens=None), tools=[FunctionTool(name='calculate', description='Evaluate a mathematical expression using sympy.', params_json_schema={'properties': {'expression': {'description': 'A string representing the mathematical expression to evaluate.', 'title': 'Expression', 'type': 'string'}}, 'required': ['expression'], 'title': 'calculate_args', 'type': 'object', 'additionalProperties': False}, on_invoke_tool=<function function_tool.<locals>._create_function_tool.<locals>._on_invoke_tool at 0x125822fc0>, strict_json_schema=True)], mcp_servers=[], input_guardrails=[], output_guardrails=[], output_type=None, hooks=None, tool_use_behavior='run_llm_again', reset_tool_choice=True), raw_item=ResponseFunctionToolCall(arguments='{\"expression\":\"10 + 20 / 5\"}', call_id='call_11hi7be0DfYaFA8SfeiVzlqI', name='calculate', type='function_call', id='fc_67ed5eba41e4819293f4702f1bfe04e50b1d8fc15f15293a', status='completed'), type='tool_call_item'), ToolCallOutputItem(agent=Agent(name='Math Agent', instructions='Solve arithmetic expressions using the calculator tool.', handoff_description=None, handoffs=[], model=None, model_settings=ModelSettings(temperature=None, top_p=None, frequency_penalty=None, presence_penalty=None, tool_choice=None, parallel_tool_calls=False, truncation=None, max_tokens=None), tools=[FunctionTool(name='calculate', description='Evaluate a mathematical expression using sympy.', params_json_schema={'properties': {'expression': {'description': 'A string representing the mathematical expression to evaluate.', 'title': 'Expression', 'type': 'string'}}, 'required': ['expression'], 'title': 'calculate_args', 'type': 'object', 'additionalProperties': False}, on_invoke_tool=<function function_tool.<locals>._create_function_tool.<locals>._on_invoke_tool at 0x125822fc0>, strict_json_schema=True)], mcp_servers=[], input_guardrails=[], output_guardrails=[], output_type=None, hooks=None, tool_use_behavior='run_llm_again', reset_tool_choice=True), raw_item={'call_id': 'call_11hi7be0DfYaFA8SfeiVzlqI', 'output': '14.0', 'type': 'function_call_output'}, output=14.0, type='tool_call_output_item'), MessageOutputItem(agent=Agent(name='Math Agent', instructions='Solve arithmetic expressions using the calculator tool.', handoff_description=None, handoffs=[], model=None, model_settings=ModelSettings(temperature=None, top_p=None, frequency_penalty=None, presence_penalty=None, tool_choice=None, parallel_tool_calls=False, truncation=None, max_tokens=None), tools=[FunctionTool(name='calculate', description='Evaluate a mathematical expression using sympy.', params_json_schema={'properties': {'expression': {'description': 'A string representing the mathematical expression to evaluate.', 'title': 'Expression', 'type': 'string'}}, 'required': ['expression'], 'title': 'calculate_args', 'type': 'object', 'additionalProperties': False}, on_invoke_tool=<function function_tool.<locals>._create_function_tool.<locals>._on_invoke_tool at 0x125822fc0>, strict_json_schema=True)], mcp_servers=[], input_guardrails=[], output_guardrails=[], output_type=None, hooks=None, tool_use_behavior='run_llm_again', reset_tool_choice=True), raw_item=ResponseOutputMessage(id='msg_67ed5ebc94188192b2ebe661a913b3410b1d8fc15f15293a', content=[ResponseOutputText(annotations=[], text='The result of \\\\(10 + \\\\frac{20}{5}\\\\) is 14.0.', type='output_text')], role='assistant', status='completed', type='message'), type='message_output_item')], raw_responses=[ModelResponse(output=[ResponseFunctionToolCall(arguments='{\"expression\":\"10 + 20 / 5\"}', call_id='call_11hi7be0DfYaFA8SfeiVzlqI', name='calculate', type='function_call', id='fc_67ed5eba41e4819293f4702f1bfe04e50b1d8fc15f15293a', status='completed')], usage=Usage(requests=1, input_tokens=81, output_tokens=20, total_tokens=101), referenceable_id='resp_67ed5eb869d08192a26f662d871fc2a10b1d8fc15f15293a'), ModelResponse(output=[ResponseOutputMessage(id='msg_67ed5ebc94188192b2ebe661a913b3410b1d8fc15f15293a', content=[ResponseOutputText(annotations=[], text='The result of \\\\(10 + \\\\frac{20}{5}\\\\) is 14.0.', type='output_text')], role='assistant', status='completed', type='message')], usage=Usage(requests=1, input_tokens=111, output_tokens=22, total_tokens=133), referenceable_id='resp_67ed5ebbf9a48192ab8afa017c9f4d700b1d8fc15f15293a')], final_output='The result of \\\\(10 + \\\\frac{20}{5}\\\\) is 14.0.', input_guardrail_results=[], output_guardrail_results=[], _last_agent=Agent(name='Math Agent', instructions='Solve arithmetic expressions using the calculator tool.', handoff_description=None, handoffs=[], model=None, model_settings=ModelSettings(temperature=None, top_p=None, frequency_penalty=None, presence_penalty=None, tool_choice=None, parallel_tool_calls=False, truncation=None, max_tokens=None), tools=[FunctionTool(name='calculate', description='Evaluate a mathematical expression using sympy.', params_json_schema={'properties': {'expression': {'description': 'A string representing the mathematical expression to evaluate.', 'title': 'Expression', 'type': 'string'}}, 'required': ['expression'], 'title': 'calculate_args', 'type': 'object', 'additionalProperties': False}, on_invoke_tool=<function function_tool.<locals>._create_function_tool.<locals>._on_invoke_tool at 0x125822fc0>, strict_json_schema=True)], mcp_servers=[], input_guardrails=[], output_guardrails=[], output_type=None, hooks=None, tool_use_behavior='run_llm_again', reset_tool_choice=True))"
            ]
          },
          "execution_count": 29,
          "metadata": {},
          "output_type": "execute_result"
        }
      ],
      "source": [
        "result"
      ]
    },
    {
      "cell_type": "markdown",
      "metadata": {},
      "source": [
        "In this setup, we define a `Math Agent` that utilizes the `calculate` tool to solve arithmetic expressions. The agent is configured with instructions to handle mathematical queries, and the `Runner` is used to execute a sample query. The result is printed to demonstrate the agent's ability to process and respond to mathematical problems.\n",
        "\n",
        "By following these steps, you can effectively integrate a calculator tool into a Math Agent, enhancing its capabilities to handle numerical data efficiently. For more information on using the OpenAI Agents SDK, refer to the [official documentation](https://openai.github.io/openai-agents-python/tools/?utm_source=openai)."
      ]
    },
    {
      "cell_type": "markdown",
      "metadata": {},
      "source": [
        "# Creating the Web Searcher Agent\n",
        "\n",
        "In this section, we will develop an agent capable of executing web searches using the OpenAI Agents SDK. This agent will be able to access up-to-date information from the internet, making it particularly useful for tasks that require current data retrieval. This capability is essential in scenarios where static data sources are insufficient or outdated."
      ]
    },
    {
      "cell_type": "markdown",
      "metadata": {},
      "source": [
        "## Defining the Web Search Tool\n",
        "\n",
        "To enable our agent to perform web searches, we will use the built-in `WebSearchTool` provided by the OpenAI Agents SDK. This tool allows agents to query the web and retrieve information in real-time, making it an essential component for tasks that involve dynamic data retrieval.\n",
        "\n",
        "### Why Use the Web Search Tool?\n",
        "The web search tool is crucial for agents that need to provide answers based on the latest information available online. Whether it's checking the latest news, finding current market trends, or answering general knowledge questions, the web search tool enhances the agent's ability to deliver accurate and timely responses.\n",
        "\n",
        "### How the Web Search Tool Works\n",
        "The `WebSearchTool` interacts with web APIs to fetch real-time data. It is designed to handle a wide range of queries and return relevant information efficiently. However, it is important to note that the tool may have limitations based on the availability of data and the specific APIs it interacts with. For more details, refer to the [official documentation](https://openai.github.io/openai-agents-python/tools/)."
      ]
    },
    {
      "cell_type": "code",
      "execution_count": 25,
      "metadata": {
        "execution_count": null,
        "outputs": []
      },
      "outputs": [],
      "source": [
        "# Import the necessary modules from the OpenAI Agents SDK\n",
        "from agents import Agent, WebSearchTool\n",
        "\n",
        "# Initialize the Web Search Tool (ensuring consistency in parameters)\n",
        "web_search_tool = WebSearchTool(\n",
        "    user_location=None,  # Optional: Specify a UserLocation object if needed\n",
        "    search_context_size=\"medium\"  # Options: \"low\", \"medium\", \"high\"\n",
        ")"
      ]
    },
    {
      "cell_type": "markdown",
      "metadata": {},
      "source": [
        "## Subsection 2: Configuring the Web Searcher Agent\n",
        "\n",
        "With the web search tool defined, we can now configure our Web Searcher Agent. This agent will be responsible for executing web searches and providing answers to user queries based on the retrieved information.\n",
        "\n",
        "### Setting Up the Web Searcher Agent\n",
        "We'll create an agent named `Web Searcher` that uses the `WebSearchTool` to handle queries. The agent will be set up with instructions to perform web searches and return the most relevant information."
      ]
    },
    {
      "cell_type": "code",
      "execution_count": 26,
      "metadata": {
        "execution_count": null,
        "outputs": []
      },
      "outputs": [
        {
          "name": "stdout",
          "output_type": "stream",
          "text": [
            "Agent Name: Web Searcher\n",
            "Agent Instructions: Perform web searches to find the most relevant information.\n"
          ]
        }
      ],
      "source": [
        "# Define the Web Searcher Agent\n",
        "web_searcher_agent = Agent(\n",
        "    name=\"Web Searcher\",\n",
        "    instructions=\"Perform web searches to find the most relevant information.\",\n",
        "    tools=[web_search_tool]  # Integrate the web search tool\n",
        ")\n",
        "\n",
        "# Display the agent's details\n",
        "print(f\"Agent Name: {web_searcher_agent.name}\")\n",
        "print(f\"Agent Instructions: {web_searcher_agent.instructions}\")"
      ]
    },
    {
      "cell_type": "markdown",
      "metadata": {},
      "source": [
        "### Running the Web Searcher Agent\n",
        "To demonstrate the functionality of our Web Searcher Agent, we will execute a sample query. This will show how the agent processes a user request and retrieves information from the web using the `WebSearchTool`."
      ]
    },
    {
      "cell_type": "code",
      "execution_count": 27,
      "metadata": {
        "execution_count": null,
        "outputs": []
      },
      "outputs": [
        {
          "name": "stdout",
          "output_type": "stream",
          "text": [
            "Here are some recent developments in the field of artificial intelligence:\n",
            "\n",
            "**Advancements Toward Artificial General Intelligence (AGI):**\n",
            "Google DeepMind has released a comprehensive 145-page paper emphasizing the importance of preparing for AGI—AI systems capable of surpassing human-level intelligence. The paper outlines potential risks associated with AGI and proposes mitigation strategies involving developer interventions, societal changes, and policy reforms. This initiative highlights the urgency of addressing AGI-related challenges amid rapid advancements in AI technology. ([axios.com](https://www.axios.com/2025/04/02/google-agi-deepmind-safety?utm_source=openai))\n",
            "\n",
            "**Leadership Changes in AI Research:**\n",
            "Joelle Pineau, Meta's Vice President for AI Research, has announced her decision to step down by the end of May after an eight-year tenure. Pineau has been instrumental in promoting Meta's open-source approach to AI, notably with the development of the large language model, Llama. Her departure comes at a time of intensified competition in AI development. ([apnews.com](https://apnews.com/article/c596df5f0d567268c4acd6f41944b5db?utm_source=openai))\n",
            "\n",
            "**Legal Developments in AI and Copyright:**\n",
            "A U.S. District Court judge has allowed the New York Times' lawsuit against OpenAI and Microsoft to proceed. The lawsuit alleges direct copyright infringement, claiming that the companies used the Times' content to train their large language models without permission. This case could set a significant precedent regarding the use of copyrighted material in AI training. ([axios.com](https://www.axios.com/2025/04/01/nyt-openai-microsoft-lawsuit-advances?utm_source=openai))\n",
            "\n",
            "**AI Competition in China:**\n",
            "Chinese tech companies, including DeepSeek and Alibaba, are rapidly advancing their AI models. DeepSeek's V3 model and Alibaba's new Qwen series demonstrate significant improvements, intensifying domestic competition. This AI race is leading to uneven progress among tech firms, with leaders like Alibaba and Tencent gaining investor confidence, while others like Baidu face challenges. ([ft.com](https://www.ft.com/content/5192a8b1-a71e-409c-8edf-1fcccb9539ec?utm_source=openai))\n",
            "\n",
            "**AI Integration in Consumer Services:**\n",
            "Google's AI-powered subscription service, Google One AI Premium, offers a comprehensive suite of features, including integration with Google Workspace and additional cloud storage. This positions it as a leading option for consumers seeking value in mobile AI services. ([androidcentral.com](https://www.androidcentral.com/apps-software/ai/is-google-one-ai-premium-the-only-mobile-ai-suite-worth-paying-for?utm_source=openai))\n",
            "\n",
            "**Reliability of AI in Information Retrieval:**\n",
            "Recent evaluations indicate that AI tools like ChatGPT, Perplexity, and Google's Gemini often provide inaccurate information and lack proper source citation. This unreliability underscores the need for human oversight and suggests that AI is not yet ready to replace traditional search engines. ([techradar.com](https://www.techradar.com/computing/artificial-intelligence/ive-got-bad-news-if-you-use-chatgpt-or-any-other-ai-as-your-main-search-tool?utm_source=openai))\n",
            "\n",
            "\n",
            "## Recent Developments in AI:\n",
            "- [It's time to start preparing for AGI, Google says](https://www.axios.com/2025/04/02/google-agi-deepmind-safety?utm_source=openai)\n",
            "- [Meta's head of AI research stepping down](https://apnews.com/article/c596df5f0d567268c4acd6f41944b5db?utm_source=openai)\n",
            "- [NYT case against OpenAI and Microsoft can advance](https://www.axios.com/2025/04/01/nyt-openai-microsoft-lawsuit-advances?utm_source=openai) \n"
          ]
        }
      ],
      "source": [
        "from agents import Runner\n",
        "\n",
        "# Define an async function to run the agent with a sample query\n",
        "def run_web_searcher():\n",
        "    # Sample query to test the web search capability\n",
        "    query = \"What is the latest news about AI?\"\n",
        "    \n",
        "    try:\n",
        "        # Execute the query using the Runner\n",
        "        result = Runner.run_sync(web_searcher_agent, query)\n",
        "        \n",
        "        # Print the final output from the agent\n",
        "        print(result.final_output)\n",
        "        return result\n",
        "    except Exception as e:\n",
        "        print(f\"An error occurred: {e}\")\n",
        "\n",
        "# Run the async function using asyncio\n",
        "result = run_web_searcher()"
      ]
    },
    {
      "cell_type": "markdown",
      "metadata": {},
      "source": [
        "In this example, we have configured the `Web Searcher` agent to handle user queries by performing web searches. The agent uses the `WebSearchTool` to fetch information in real-time, demonstrating its ability to provide up-to-date responses. This setup can be extended to include more complex queries and additional functionality as needed.\n",
        "\n",
        "### Ethical Considerations\n",
        "When using web search tools in AI applications, it's important to consider ethical issues such as privacy, misinformation, and algorithmic bias. Developers should ensure that their agents are designed to handle these challenges responsibly. For more information on ethical considerations, refer to [this resource](https://plato.stanford.edu/entries/ethics-search/).\n",
        "\n",
        "For more details on using the OpenAI Agents SDK and its built-in tools, refer to the [official documentation](https://openai.github.io/openai-agents-python/?utm_source=openai)."
      ]
    },
    {
      "cell_type": "markdown",
      "metadata": {},
      "source": [
        "# Developing the Primary Agent\n",
        "\n",
        "In this section, we will focus on creating the Primary Agent, which serves as the central coordinator within our multi-agent framework. The Primary Agent is responsible for interpreting user requests and delegating tasks to specialized sub-agents, such as the Math Agent and the Web Searcher Agent. This setup allows us to efficiently manage complex workflows by leveraging the strengths of each agent.\n",
        "\n",
        "The Primary Agent's task delegation capabilities are crucial for ensuring that each request is handled by the most appropriate agent, thereby enhancing the system's overall efficiency and effectiveness. We'll explore how to implement task delegation logic and configure handoffs to sub-agents using the latest features of the OpenAI Agents SDK.\n",
        "\n",
        "Before we proceed, let's briefly introduce the OpenAI Agents SDK. This SDK provides tools and APIs to build, manage, and deploy AI agents capable of handling complex tasks through a modular and scalable architecture. It includes features like the Responses API, which integrates chat capabilities with tool usage, allowing for sophisticated agent interactions."
      ]
    },
    {
      "cell_type": "markdown",
      "metadata": {},
      "source": [
        "## Implementing Task Delegation Logic\n",
        "\n",
        "To equip the Primary Agent with the ability to interpret user requests and delegate them appropriately, we need to define a clear set of instructions and logic for task delegation. This involves:\n",
        "\n",
        "- **Analyzing User Requests:** The agent must be able to understand the nature of the user's request to determine which sub-agent should handle it.\n",
        "- **Delegating Tasks:** Based on the analysis, the agent delegates the task to the appropriate sub-agent.\n",
        "\n",
        "We'll implement this logic using the OpenAI Agents SDK, which provides a streamlined approach to managing agent interactions through the Responses API. The `Runner` class is used to execute tasks, ensuring that the appropriate agent handles each request."
      ]
    },
    {
      "cell_type": "code",
      "execution_count": 31,
      "metadata": {
        "execution_count": null,
        "outputs": []
      },
      "outputs": [
        {
          "name": "stdout",
          "output_type": "stream",
          "text": [
            "The result of 15 times 3 is 45.\n",
            "RunResult:\n",
            "- Last agent: Agent(name=\"Math Agent\", ...)\n",
            "- Final output (str):\n",
            "    The result of 15 times 3 is 45.\n",
            "- 3 new item(s)\n",
            "- 2 raw response(s)\n",
            "- 0 input guardrail result(s)\n",
            "- 0 output guardrail result(s)\n",
            "(See `RunResult` for more details)\n"
          ]
        }
      ],
      "source": [
        "import asyncio\n",
        "from agents import Agent, Runner\n",
        "\n",
        "# Define specialized agents\n",
        "math_agent = Agent(\n",
        "    name=\"Math Agent\",\n",
        "    instructions=\"Solve arithmetic expressions using the calculator tool.\"\n",
        ")\n",
        "\n",
        "web_searcher_agent = Agent(\n",
        "    name=\"Web Searcher\",\n",
        "    instructions=\"Perform web searches to find the most relevant information.\"\n",
        ")\n",
        "\n",
        "# Define the Primary Agent with task delegation logic\n",
        "primary_agent = Agent(\n",
        "    name=\"Primary Agent\",\n",
        "    instructions=(\n",
        "        \"Analyze user requests and delegate tasks to the appropriate sub-agent. \"\n",
        "        \"Use the Math Agent for arithmetic calculations and the Web Searcher Agent for web searches. \"\n",
        "        \"For math questions or when numbers are present, handoff to the Math Agent. \"\n",
        "        \"For search or news related questions, handoff to the Web Searcher Agent.\"\n",
        "    ),\n",
        "    handoffs=[math_agent, web_searcher_agent]\n",
        ")\n",
        "\n",
        "async def main():\n",
        "    request = \"What is 15 times 3?\"\n",
        "    result = await Runner.run(primary_agent, request)\n",
        "    print(result.final_output)\n",
        "    print(result)\n",
        "\n",
        "if __name__ == \"__main__\":\n",
        "    asyncio.run(main())"
      ]
    },
    {
      "cell_type": "markdown",
      "metadata": {},
      "source": [
        "In this code, we define the `Primary Agent` with instructions to analyze user requests and delegate tasks to the appropriate sub-agent. The `delegate_task` function contains simple logic to determine whether a request should be handled by the Math Agent or the Web Searcher Agent based on keywords and the presence of numbers.\n",
        "\n",
        "This setup allows the Primary Agent to efficiently route tasks, ensuring that each request is processed by the most suitable agent. The use of the `Runner` facilitates the execution of tasks by the respective agents. Error handling is implemented to manage any exceptions that may occur during task delegation."
      ]
    },
    {
      "cell_type": "markdown",
      "metadata": {},
      "source": [
        "# Demonstration of the Multi-Agent Framework\n",
        "\n",
        "In this section, we will demonstrate the functionality of our multi-agent framework built using OpenAI's Agents SDK. This framework consists of a Primary Agent that delegates tasks to specialized sub-agents, namely the Math Agent and the Web Searcher Agent. These demonstrations will showcase real-time task delegation and handoffs between agents, highlighting the system's ability to efficiently handle diverse queries.\n",
        "\n",
        "Let's explore how the framework processes different types of requests, ensuring that each task is managed by the most suitable agent."
      ]
    },
    {
      "cell_type": "markdown",
      "metadata": {},
      "source": [
        "## Example: Mathematical Query Execution\n",
        "\n",
        "In this example, we will demonstrate how a mathematical query is processed by the system. The Math Agent plays a crucial role here, utilizing its calculator tool to evaluate arithmetic expressions. This example will highlight the seamless task delegation from the Primary Agent to the Math Agent, showcasing the framework's capability to handle numerical queries effectively."
      ]
    },
    {
      "cell_type": "code",
      "execution_count": 32,
      "metadata": {
        "execution_count": null,
        "outputs": []
      },
      "outputs": [
        {
          "name": "stdout",
          "output_type": "stream",
          "text": [
            "Math Query Result: The result of \\(15 \\times (3 + 2)\\) is 75.\n"
          ]
        }
      ],
      "source": [
        "import asyncio\n",
        "from agents import Agent, Runner, function_tool\n",
        "from sympy import sympify\n",
        "import os\n",
        "\n",
        "# Define the calculator tool using sympy\n",
        "@function_tool\n",
        "def calculate(expression: str) -> float:\n",
        "    \"\"\"Evaluate a mathematical expression using sympy.\n",
        "    \n",
        "    Args:\n",
        "        expression: A string representing the mathematical expression to evaluate.\n",
        "    \n",
        "    Returns:\n",
        "        The result of the evaluated expression as a float.\n",
        "    \"\"\"\n",
        "    try:\n",
        "        result = sympify(expression).evalf()\n",
        "        return float(result)\n",
        "    except Exception:\n",
        "        return float('nan')  # Return NaN to indicate an error in calculation\n",
        "\n",
        "# Define the Math Agent\n",
        "math_agent = Agent(\n",
        "    name=\"Math Agent\",\n",
        "    instructions=\"Solve arithmetic expressions using the calculator tool.\",\n",
        "    tools=[calculate]\n",
        ")\n",
        "\n",
        "# Define the Primary Agent for task delegation\n",
        "primary_agent = Agent(\n",
        "    name=\"Primary Agent\",\n",
        "    instructions=\"Delegate arithmetic tasks to the Math Agent.\",\n",
        "    handoffs=[math_agent]\n",
        ")\n",
        "\n",
        "# Function to run a mathematical query\n",
        "async def run_math_query(query):\n",
        "    try:\n",
        "        result = await Runner.run(primary_agent, query)\n",
        "        print(\"Math Query Result:\", result.final_output)\n",
        "    except Exception as e:\n",
        "        print(f\"An error occurred: {e}\")\n",
        "\n",
        "# Execute the mathematical query\n",
        "math_query = \"Calculate 15 * (3 + 2)\"\n",
        "asyncio.run(run_math_query(math_query))"
      ]
    },
    {
      "cell_type": "markdown",
      "metadata": {},
      "source": [
        "In this demonstration, the Primary Agent delegates the mathematical query to the Math Agent, which uses the calculator tool to evaluate the expression `15 * (3 + 2)`. The result is then returned and displayed, illustrating the effective handling of arithmetic tasks within the framework."
      ]
    },
    {
      "cell_type": "markdown",
      "metadata": {},
      "source": [
        "## Example: Web Search Task Execution\n",
        "\n",
        "Next, we will demonstrate how the framework handles a web search query. The Web Searcher Agent is tasked with retrieving up-to-date information from the internet. This example will emphasize the Web Searcher Agent's function in processing web search requests, showing the framework's ability to manage dynamic data retrieval tasks."
      ]
    },
    {
      "cell_type": "code",
      "execution_count": 34,
      "metadata": {
        "execution_count": null,
        "outputs": []
      },
      "outputs": [
        {
          "name": "stdout",
          "output_type": "stream",
          "text": [
            "Web Search Result: As of April 2025, several key trends are shaping the landscape of artificial intelligence (AI):\n",
            "\n",
            "**1. Preparation for Artificial General Intelligence (AGI):**\n",
            "Google DeepMind has emphasized the importance of long-term AI safety planning due to the imminent potential of achieving AGI, which could surpass human-level intelligence. A recent 145-page paper outlines significant risks AGI might pose and proposes measures for mitigation through developer interventions, societal changes, and policy reforms. ([axios.com](https://www.axios.com/2025/04/02/google-agi-deepmind-safety?utm_source=openai))\n",
            "\n",
            "**2. China's Open-Source AI Initiatives:**\n",
            "Major Chinese tech firms like Alibaba, Tencent, and Baidu have embraced open-source AI models to bypass U.S. tech restrictions and accelerate AI development. While this approach fosters collaboration and innovation, it also presents risks such as reduced revenue and potential exploitation by other countries with superior computing resources. Future strategies may shift due to stringent government regulations and national security concerns. ([reuters.com](https://www.reuters.com/breakingviews/chinas-love-open-source-ai-may-shut-down-fast-2025-04-02/?utm_source=openai))\n",
            "\n",
            "**3. AI's Impact on Business Productivity:**\n",
            "A study presented at a European Central Bank conference found that initial AI adoption in the manufacturing sector leads to a significant drop in productivity. However, companies that survive the transition period tend to thrive in the long term, experiencing improvements in sales growth, productivity, and employment. Older and larger companies may struggle more with these changes. ([reuters.com](https://www.reuters.com/technology/artificial-intelligence/if-ai-doesnt-kill-your-company-it-will-make-it-stronger-study-shows-2025-04-01/?utm_source=openai))\n",
            "\n",
            "**4. AI Integration in Sports:**\n",
            "LaLiga has integrated AI into its core strategy, utilizing predictive analysis and algorithms to enhance various aspects of the football league. This includes match analysis, media production, and fan engagement, demonstrating AI's expanding role in the sports industry. ([reuters.com](https://www.reuters.com/sports/soccer/laliga-leads-ai-evolution-with-global-outreach-2025-04-02/?utm_source=openai))\n",
            "\n",
            "**5. AI-Driven Investments in Infrastructure:**\n",
            "The rising demand for AI technology is driving significant investments in undersea cables, essential for connecting global data centers and supporting increased data transmission needs. Tech giants like Meta, Amazon, Google, and Microsoft are heavily investing in submarine fiber-optic cables to enhance global AI potential. ([kiplinger.com](https://www.kiplinger.com/business/rising-ai-demand-stokes-undersea-investments?utm_source=openai))\n",
            "\n",
            "**6. National Strategies for AI and Robotics:**\n",
            "American robotics companies, including Tesla and Boston Dynamics, are advocating for a national robotics strategy and a federal office dedicated to promoting the industry. This push aims to address increasing competition from China, which prioritizes intelligent robots integrated with AI and other emerging technologies. ([apnews.com](https://apnews.com/article/702796f1584fe1920e5fd86f15a99b4f?utm_source=openai))\n",
            "\n",
            "**7. AI's Influence on Employment:**\n",
            "The impact of AI on office jobs, particularly white-collar positions, is a growing concern. A McKinsey report predicts that AI could displace 400-800 million jobs globally within the next five years, raising questions about training and career development for new professionals. ([ft.com](https://www.ft.com/content/427a0f91-ea70-4ad8-aa33-993680aa5e7d?utm_source=openai))\n",
            "\n",
            "These trends highlight AI's transformative impact across various sectors, emphasizing the need for strategic planning, ethical considerations, and adaptation to evolving technologies.\n",
            "\n",
            "\n",
            "## Recent Developments in AI:\n",
            "- [It's time to start preparing for AGI, Google says](https://www.axios.com/2025/04/02/google-agi-deepmind-safety?utm_source=openai)\n",
            "- [China's love of open-source AI may shut down fast](https://www.reuters.com/breakingviews/chinas-love-open-source-ai-may-shut-down-fast-2025-04-02/?utm_source=openai)\n",
            "- [If AI doesn't kill your company, it will make it stronger, study shows](https://www.reuters.com/technology/artificial-intelligence/if-ai-doesnt-kill-your-company-it-will-make-it-stronger-study-shows-2025-04-01/?utm_source=openai) \n",
            "[ModelResponse(output=[ResponseFunctionToolCall(arguments='{}', call_id='call_hQjYak7AHJy2SQ7D0obFY9Cw', name='transfer_to_web_searcher', type='function_call', id='fc_67ed606ea8308192afe9949c4e48c4080efeff026471c3ea', status='completed')], usage=Usage(requests=1, input_tokens=92, output_tokens=14, total_tokens=106), referenceable_id='resp_67ed606d61f4819292b3e610be40a5a70efeff026471c3ea'), ModelResponse(output=[ResponseFunctionWebSearch(id='ws_67ed607025808192a63e99507cb7cae00efeff026471c3ea', status='completed', type='web_search_call'), ResponseOutputMessage(id='msg_67ed607249608192bbfb05f73d5b696a0efeff026471c3ea', content=[ResponseOutputText(annotations=[AnnotationURLCitation(end_index=597, start_index=505, title=\"It's time to start preparing for AGI, Google says\", type='url_citation', url='https://www.axios.com/2025/04/02/google-agi-deepmind-safety?utm_source=openai'), AnnotationURLCitation(end_index=1216, start_index=1086, title=\"China's love of open-source AI may shut down fast\", type='url_citation', url='https://www.reuters.com/breakingviews/chinas-love-open-source-ai-may-shut-down-fast-2025-04-02/?utm_source=openai'), AnnotationURLCitation(end_index=1821, start_index=1648, title=\"If AI doesn't kill your company, it will make it stronger, study shows\", type='url_citation', url='https://www.reuters.com/technology/artificial-intelligence/if-ai-doesnt-kill-your-company-it-will-make-it-stronger-study-shows-2025-04-01/?utm_source=openai'), AnnotationURLCitation(end_index=2258, start_index=2127, title='LaLiga leads AI evolution with global outreach', type='url_citation', url='https://www.reuters.com/sports/soccer/laliga-leads-ai-evolution-with-global-outreach-2025-04-02/?utm_source=openai'), AnnotationURLCitation(end_index=2749, start_index=2633, title='Rising AI Demand Stokes Undersea Investments', type='url_citation', url='https://www.kiplinger.com/business/rising-ai-demand-stokes-undersea-investments?utm_source=openai'), AnnotationURLCitation(end_index=3214, start_index=3121, title='US robotics companies push for national strategy, including a central office, to compete with China', type='url_citation', url='https://apnews.com/article/702796f1584fe1920e5fd86f15a99b4f?utm_source=openai'), AnnotationURLCitation(end_index=3625, start_index=3532, title='The Big Question: what will happen to office jobs in the age of AI?', type='url_citation', url='https://www.ft.com/content/427a0f91-ea70-4ad8-aa33-993680aa5e7d?utm_source=openai'), AnnotationURLCitation(end_index=3975, start_index=3845, title=\"It's time to start preparing for AGI, Google says\", type='url_citation', url='https://www.axios.com/2025/04/02/google-agi-deepmind-safety?utm_source=openai'), AnnotationURLCitation(end_index=4144, start_index=3978, title=\"China's love of open-source AI may shut down fast\", type='url_citation', url='https://www.reuters.com/breakingviews/chinas-love-open-source-ai-may-shut-down-fast-2025-04-02/?utm_source=openai'), AnnotationURLCitation(end_index=4377, start_index=4147, title=\"If AI doesn't kill your company, it will make it stronger, study shows\", type='url_citation', url='https://www.reuters.com/technology/artificial-intelligence/if-ai-doesnt-kill-your-company-it-will-make-it-stronger-study-shows-2025-04-01/?utm_source=openai')], text=\"As of April 2025, several key trends are shaping the landscape of artificial intelligence (AI):\\n\\n**1. Preparation for Artificial General Intelligence (AGI):**\\nGoogle DeepMind has emphasized the importance of long-term AI safety planning due to the imminent potential of achieving AGI, which could surpass human-level intelligence. A recent 145-page paper outlines significant risks AGI might pose and proposes measures for mitigation through developer interventions, societal changes, and policy reforms. ([axios.com](https://www.axios.com/2025/04/02/google-agi-deepmind-safety?utm_source=openai))\\n\\n**2. China's Open-Source AI Initiatives:**\\nMajor Chinese tech firms like Alibaba, Tencent, and Baidu have embraced open-source AI models to bypass U.S. tech restrictions and accelerate AI development. While this approach fosters collaboration and innovation, it also presents risks such as reduced revenue and potential exploitation by other countries with superior computing resources. Future strategies may shift due to stringent government regulations and national security concerns. ([reuters.com](https://www.reuters.com/breakingviews/chinas-love-open-source-ai-may-shut-down-fast-2025-04-02/?utm_source=openai))\\n\\n**3. AI's Impact on Business Productivity:**\\nA study presented at a European Central Bank conference found that initial AI adoption in the manufacturing sector leads to a significant drop in productivity. However, companies that survive the transition period tend to thrive in the long term, experiencing improvements in sales growth, productivity, and employment. Older and larger companies may struggle more with these changes. ([reuters.com](https://www.reuters.com/technology/artificial-intelligence/if-ai-doesnt-kill-your-company-it-will-make-it-stronger-study-shows-2025-04-01/?utm_source=openai))\\n\\n**4. AI Integration in Sports:**\\nLaLiga has integrated AI into its core strategy, utilizing predictive analysis and algorithms to enhance various aspects of the football league. This includes match analysis, media production, and fan engagement, demonstrating AI's expanding role in the sports industry. ([reuters.com](https://www.reuters.com/sports/soccer/laliga-leads-ai-evolution-with-global-outreach-2025-04-02/?utm_source=openai))\\n\\n**5. AI-Driven Investments in Infrastructure:**\\nThe rising demand for AI technology is driving significant investments in undersea cables, essential for connecting global data centers and supporting increased data transmission needs. Tech giants like Meta, Amazon, Google, and Microsoft are heavily investing in submarine fiber-optic cables to enhance global AI potential. ([kiplinger.com](https://www.kiplinger.com/business/rising-ai-demand-stokes-undersea-investments?utm_source=openai))\\n\\n**6. National Strategies for AI and Robotics:**\\nAmerican robotics companies, including Tesla and Boston Dynamics, are advocating for a national robotics strategy and a federal office dedicated to promoting the industry. This push aims to address increasing competition from China, which prioritizes intelligent robots integrated with AI and other emerging technologies. ([apnews.com](https://apnews.com/article/702796f1584fe1920e5fd86f15a99b4f?utm_source=openai))\\n\\n**7. AI's Influence on Employment:**\\nThe impact of AI on office jobs, particularly white-collar positions, is a growing concern. A McKinsey report predicts that AI could displace 400-800 million jobs globally within the next five years, raising questions about training and career development for new professionals. ([ft.com](https://www.ft.com/content/427a0f91-ea70-4ad8-aa33-993680aa5e7d?utm_source=openai))\\n\\nThese trends highlight AI's transformative impact across various sectors, emphasizing the need for strategic planning, ethical considerations, and adaptation to evolving technologies.\\n\\n\\n## Recent Developments in AI:\\n- [It's time to start preparing for AGI, Google says](https://www.axios.com/2025/04/02/google-agi-deepmind-safety?utm_source=openai)\\n- [China's love of open-source AI may shut down fast](https://www.reuters.com/breakingviews/chinas-love-open-source-ai-may-shut-down-fast-2025-04-02/?utm_source=openai)\\n- [If AI doesn't kill your company, it will make it stronger, study shows](https://www.reuters.com/technology/artificial-intelligence/if-ai-doesnt-kill-your-company-it-will-make-it-stronger-study-shows-2025-04-01/?utm_source=openai) \", type='output_text')], role='assistant', status='completed', type='message')], usage=Usage(requests=1, input_tokens=358, output_tokens=968, total_tokens=1326), referenceable_id='resp_67ed606f11748192814472fe13fd8f680efeff026471c3ea')]\n"
          ]
        }
      ],
      "source": [
        "from agents import Agent, Runner, WebSearchTool\n",
        "\n",
        "# Initialize the Web Search Tool (consistently specifying parameters)\n",
        "web_search_tool = WebSearchTool(\n",
        "    user_location=None,\n",
        "    search_context_size=\"medium\"\n",
        ")\n",
        "\n",
        "# Define the Web Searcher Agent\n",
        "web_searcher_agent = Agent(\n",
        "    name=\"Web Searcher\",\n",
        "    instructions=\"Perform web searches to find the most relevant information.\",\n",
        "    tools=[web_search_tool]\n",
        ")\n",
        "\n",
        "# Update the Primary Agent to include the Web Searcher Agent\n",
        "primary_agent = Agent(\n",
        "    name=\"Primary Agent\",\n",
        "    instructions=\"Delegate tasks to the appropriate sub-agent based on the query.\",\n",
        "    handoffs=[math_agent, web_searcher_agent]\n",
        ")\n",
        "\n",
        "# Function to run a web search query\n",
        "import asyncio\n",
        "async def run_web_search_query(query):\n",
        "    try:\n",
        "        result = await Runner.run(primary_agent, query)\n",
        "        print(\"Web Search Result:\", result.final_output)\n",
        "        print(result.raw_responses)\n",
        "    except Exception as e:\n",
        "        print(f\"An error occurred: {e}\")\n",
        "\n",
        "# Execute the web search query\n",
        "web_search_query = \"Search for the latest AI trends in 2025\"\n",
        "asyncio.run(run_web_search_query(web_search_query))"
      ]
    },
    {
      "cell_type": "markdown",
      "metadata": {},
      "source": [
        "In this example, the Primary Agent identifies the query as a web search task and delegates it to the Web Searcher Agent. The agent then uses the Web Search Tool to retrieve the latest information about AI trends in 2025, demonstrating the framework's capability to handle real-time data retrieval tasks efficiently.\n",
        "\n",
        "Through these examples, we have showcased the multi-agent framework's ability to manage different types of queries by leveraging the specialized skills of each agent. This modular and scalable architecture allows for efficient task management and seamless integration of diverse functionalities."
      ]
    },
    {
      "cell_type": "markdown",
      "metadata": {},
      "source": [
        "# Summary and Key Takeaways\n",
        "\n",
        "In this section, we will summarize the key concepts and skills you have learned throughout this tutorial on building a multi-agent framework using OpenAI's Agents SDK. Understanding these concepts is crucial for effectively designing and implementing AI systems that leverage the power of multiple specialized agents to perform complex tasks efficiently."
      ]
    },
    {
      "cell_type": "markdown",
      "metadata": {},
      "source": [
        "## Key Concepts Covered\n",
        "\n",
        "1. **OpenAI's Agents SDK:** We explored the capabilities of OpenAI's Agents SDK, which provides a robust framework for creating and managing AI agents. The SDK's features, such as multi-agent management, task delegation, and customizable workflows, enable the development of sophisticated AI systems.\n",
        "\n",
        "2. **Creating and Integrating Agents:** We learned how to create simple agents with specific functionalities, such as the Math Agent with a calculator tool and the Web Searcher Agent with web search capabilities. These agents were integrated into a multi-agent framework, demonstrating the ease of setting up specialized agents to handle different tasks.\n",
        "\n",
        "3. **Task Delegation and Handoffs:** A significant focus was placed on understanding the importance of task delegation and agent handoffs. The Primary Agent was designed to delegate tasks to sub-agents based on the nature of the request, ensuring efficient task management and execution.\n",
        "\n",
        "4. **Utilizing the Responses API:** The tutorial introduced the new Responses API, which replaces the Assistants API. The Responses API enhances the ability to build autonomous agents capable of performing complex tasks without direct human intervention. This transition is significant as it simplifies integration and future-proofs applications by providing continued support and access to the latest features.\n",
        "\n",
        "5. **Security and Error Handling:** We emphasized the importance of secure API key management using environment variables and implemented error handling to manage potential issues during agent operations."
      ]
    }
  ],
  "metadata": {
    "kernelspec": {
      "display_name": "venv",
      "language": "python",
      "name": "python3"
    },
    "language_info": {
      "codemirror_mode": {
        "name": "ipython",
        "version": 3
      },
      "file_extension": ".py",
      "mimetype": "text/x-python",
      "name": "python",
      "nbconvert_exporter": "python",
      "pygments_lexer": "ipython3",
      "version": "3.12.9"
    }
  },
  "nbformat": 4,
  "nbformat_minor": 4
}
